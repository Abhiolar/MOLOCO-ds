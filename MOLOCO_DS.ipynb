{
  "nbformat": 4,
  "nbformat_minor": 0,
  "metadata": {
    "colab": {
      "name": "MOLOCO DS.ipynb",
      "provenance": [],
      "authorship_tag": "ABX9TyOUYIa5/bT1kNLwVqaf6Eir"
    },
    "kernelspec": {
      "name": "python3",
      "display_name": "Python 3"
    }
  },
  "cells": [
    {
      "cell_type": "code",
      "metadata": {
        "id": "YK-sG9jn4RkO",
        "colab_type": "code",
        "colab": {}
      },
      "source": [
        "import pandas as pd\n",
        "import numpy as np\n",
        "import csv\n",
        "import datetime as dt"
      ],
      "execution_count": 0,
      "outputs": []
    },
    {
      "cell_type": "markdown",
      "metadata": {
        "id": "KwxZflFw4kO4",
        "colab_type": "text"
      },
      "source": [
        "Read in the data file as a csv file"
      ]
    },
    {
      "cell_type": "code",
      "metadata": {
        "id": "tSR2a9HW5G1z",
        "colab_type": "code",
        "colab": {}
      },
      "source": [
        "data = pd.read_csv('moloco.csv')"
      ],
      "execution_count": 0,
      "outputs": []
    },
    {
      "cell_type": "code",
      "metadata": {
        "id": "ky1sfFmS5Vep",
        "colab_type": "code",
        "colab": {
          "base_uri": "https://localhost:8080/",
          "height": 204
        },
        "outputId": "e81c0738-b249-409d-8b56-2fa41823c124"
      },
      "source": [
        "data.head()"
      ],
      "execution_count": 105,
      "outputs": [
        {
          "output_type": "execute_result",
          "data": {
            "text/html": [
              "<div>\n",
              "<style scoped>\n",
              "    .dataframe tbody tr th:only-of-type {\n",
              "        vertical-align: middle;\n",
              "    }\n",
              "\n",
              "    .dataframe tbody tr th {\n",
              "        vertical-align: top;\n",
              "    }\n",
              "\n",
              "    .dataframe thead th {\n",
              "        text-align: right;\n",
              "    }\n",
              "</style>\n",
              "<table border=\"1\" class=\"dataframe\">\n",
              "  <thead>\n",
              "    <tr style=\"text-align: right;\">\n",
              "      <th></th>\n",
              "      <th>ts</th>\n",
              "      <th>user_id</th>\n",
              "      <th>country_id</th>\n",
              "      <th>site_id</th>\n",
              "    </tr>\n",
              "  </thead>\n",
              "  <tbody>\n",
              "    <tr>\n",
              "      <th>0</th>\n",
              "      <td>2019-02-01 00:01:24</td>\n",
              "      <td>LC36FC</td>\n",
              "      <td>TL6</td>\n",
              "      <td>N0OTG</td>\n",
              "    </tr>\n",
              "    <tr>\n",
              "      <th>1</th>\n",
              "      <td>2019-02-01 00:10:19</td>\n",
              "      <td>LC39B6</td>\n",
              "      <td>TL6</td>\n",
              "      <td>N0OTG</td>\n",
              "    </tr>\n",
              "    <tr>\n",
              "      <th>2</th>\n",
              "      <td>2019-02-01 00:21:50</td>\n",
              "      <td>LC3500</td>\n",
              "      <td>TL6</td>\n",
              "      <td>N0OTG</td>\n",
              "    </tr>\n",
              "    <tr>\n",
              "      <th>3</th>\n",
              "      <td>2019-02-01 00:22:50</td>\n",
              "      <td>LC374F</td>\n",
              "      <td>TL6</td>\n",
              "      <td>N0OTG</td>\n",
              "    </tr>\n",
              "    <tr>\n",
              "      <th>4</th>\n",
              "      <td>2019-02-01 00:23:44</td>\n",
              "      <td>LCC1C3</td>\n",
              "      <td>TL6</td>\n",
              "      <td>QGO3G</td>\n",
              "    </tr>\n",
              "  </tbody>\n",
              "</table>\n",
              "</div>"
            ],
            "text/plain": [
              "                    ts user_id country_id site_id\n",
              "0  2019-02-01 00:01:24  LC36FC        TL6   N0OTG\n",
              "1  2019-02-01 00:10:19  LC39B6        TL6   N0OTG\n",
              "2  2019-02-01 00:21:50  LC3500        TL6   N0OTG\n",
              "3  2019-02-01 00:22:50  LC374F        TL6   N0OTG\n",
              "4  2019-02-01 00:23:44  LCC1C3        TL6   QGO3G"
            ]
          },
          "metadata": {
            "tags": []
          },
          "execution_count": 105
        }
      ]
    },
    {
      "cell_type": "markdown",
      "metadata": {
        "id": "s_5tZq7I5d4q",
        "colab_type": "text"
      },
      "source": [
        "The three columns in the data accounts for the timestamp, the user_id, country_id and the site_id"
      ]
    },
    {
      "cell_type": "markdown",
      "metadata": {
        "id": "EchwFfTt51FW",
        "colab_type": "text"
      },
      "source": [
        "# EXPLORATORY DATA ANALYSIS"
      ]
    },
    {
      "cell_type": "code",
      "metadata": {
        "id": "w3bB3D0U6Sjm",
        "colab_type": "code",
        "colab": {
          "base_uri": "https://localhost:8080/",
          "height": 204
        },
        "outputId": "5a3dd90b-02dd-4a31-abdb-a850e643b4ce"
      },
      "source": [
        "data.info() #we have non-null values and and all columns are object data types"
      ],
      "execution_count": 106,
      "outputs": [
        {
          "output_type": "stream",
          "text": [
            "<class 'pandas.core.frame.DataFrame'>\n",
            "RangeIndex: 3553 entries, 0 to 3552\n",
            "Data columns (total 4 columns):\n",
            " #   Column      Non-Null Count  Dtype \n",
            "---  ------      --------------  ----- \n",
            " 0   ts          3553 non-null   object\n",
            " 1   user_id     3553 non-null   object\n",
            " 2   country_id  3553 non-null   object\n",
            " 3   site_id     3553 non-null   object\n",
            "dtypes: object(4)\n",
            "memory usage: 111.2+ KB\n"
          ],
          "name": "stdout"
        }
      ]
    },
    {
      "cell_type": "code",
      "metadata": {
        "id": "bOYRMVDmv5JB",
        "colab_type": "code",
        "colab": {
          "base_uri": "https://localhost:8080/",
          "height": 34
        },
        "outputId": "67933221-5946-42e3-d198-68017d3c9d4b"
      },
      "source": [
        "data.user_id.nunique() # there are 1916 unique users in the data"
      ],
      "execution_count": 107,
      "outputs": [
        {
          "output_type": "execute_result",
          "data": {
            "text/plain": [
              "1916"
            ]
          },
          "metadata": {
            "tags": []
          },
          "execution_count": 107
        }
      ]
    },
    {
      "cell_type": "markdown",
      "metadata": {
        "id": "xWqr6AbH89tO",
        "colab_type": "text"
      },
      "source": [
        "# Consider only the rows with country_id = \"BDV\" (there are 844 such rows). For each site_id, we can compute the number of unique user_id's found in these 844 rows. Which site_id has the largest number of unique users? And what's the number?"
      ]
    },
    {
      "cell_type": "code",
      "metadata": {
        "id": "gzzbE1p95Ywa",
        "colab_type": "code",
        "colab": {
          "base_uri": "https://localhost:8080/",
          "height": 34
        },
        "outputId": "98e43d04-28c3-494e-a865-9b1b17d4c309"
      },
      "source": [
        "data.country_id.unique() ## this method computes the unique country_ids in the data"
      ],
      "execution_count": 108,
      "outputs": [
        {
          "output_type": "execute_result",
          "data": {
            "text/plain": [
              "array(['TL6', 'HVQ', 'QLT', 'BDV', 'XA7', 'NVV', 'K1R'], dtype=object)"
            ]
          },
          "metadata": {
            "tags": []
          },
          "execution_count": 108
        }
      ]
    },
    {
      "cell_type": "code",
      "metadata": {
        "id": "_g8-P8MJ6C80",
        "colab_type": "code",
        "colab": {}
      },
      "source": [
        "new_data  = data[data['country_id'] == 'BDV']"
      ],
      "execution_count": 0,
      "outputs": []
    },
    {
      "cell_type": "code",
      "metadata": {
        "id": "8ZuB76ZU67iU",
        "colab_type": "code",
        "colab": {
          "base_uri": "https://localhost:8080/",
          "height": 102
        },
        "outputId": "f38913be-1d17-43d0-ad44-934fe36a78aa"
      },
      "source": [
        "new_data.groupby(['site_id'])['user_id'].nunique()"
      ],
      "execution_count": 110,
      "outputs": [
        {
          "output_type": "execute_result",
          "data": {
            "text/plain": [
              "site_id\n",
              "3POLC      2\n",
              "5NPAU    544\n",
              "N0OTG     90\n",
              "Name: user_id, dtype: int64"
            ]
          },
          "metadata": {
            "tags": []
          },
          "execution_count": 110
        }
      ]
    },
    {
      "cell_type": "markdown",
      "metadata": {
        "id": "2MWp2YB19EIM",
        "colab_type": "text"
      },
      "source": [
        "**Answer **- site_id 5NPAU has 544 unique users"
      ]
    },
    {
      "cell_type": "markdown",
      "metadata": {
        "id": "aaa3ImAR9QYZ",
        "colab_type": "text"
      },
      "source": [
        "# Between 2019-02-03 00:00:00 and 2019-02-04 23:59:59, there are four users who visited a certain site more than 10 times. Find these four users & which sites they (each) visited more than 10 times. (Simply provides four triples in the form (user_id, site_id, number of visits) in the box below.)"
      ]
    },
    {
      "cell_type": "code",
      "metadata": {
        "id": "ygzBBAC29nWn",
        "colab_type": "code",
        "colab": {}
      },
      "source": [
        "data['ts'] = pd.to_datetime(data['ts'])"
      ],
      "execution_count": 0,
      "outputs": []
    },
    {
      "cell_type": "code",
      "metadata": {
        "id": "yfigHnjQAIWP",
        "colab_type": "code",
        "colab": {
          "base_uri": "https://localhost:8080/",
          "height": 204
        },
        "outputId": "948ee9e3-927d-44a3-f540-251bfe90d8f9"
      },
      "source": [
        "data.info() #timestamp column has been converted to datetime format"
      ],
      "execution_count": 112,
      "outputs": [
        {
          "output_type": "stream",
          "text": [
            "<class 'pandas.core.frame.DataFrame'>\n",
            "RangeIndex: 3553 entries, 0 to 3552\n",
            "Data columns (total 4 columns):\n",
            " #   Column      Non-Null Count  Dtype         \n",
            "---  ------      --------------  -----         \n",
            " 0   ts          3553 non-null   datetime64[ns]\n",
            " 1   user_id     3553 non-null   object        \n",
            " 2   country_id  3553 non-null   object        \n",
            " 3   site_id     3553 non-null   object        \n",
            "dtypes: datetime64[ns](1), object(3)\n",
            "memory usage: 111.2+ KB\n"
          ],
          "name": "stdout"
        }
      ]
    },
    {
      "cell_type": "code",
      "metadata": {
        "id": "xn4cn0QaAJ_-",
        "colab_type": "code",
        "colab": {}
      },
      "source": [
        "time_data  = data[(data['ts'] >= '2019-02-03 00:00:00') & (data['ts'] <= '2019-02-04 23:59:59')]"
      ],
      "execution_count": 0,
      "outputs": []
    },
    {
      "cell_type": "code",
      "metadata": {
        "id": "rbCA31VuCe9j",
        "colab_type": "code",
        "colab": {
          "base_uri": "https://localhost:8080/",
          "height": 119
        },
        "outputId": "8964bac9-24d4-411b-ad5c-00bd3296a5e0"
      },
      "source": [
        "time_data.groupby(['site_id', 'user_id'])['user_id'].count().sort_values().tail(4)"
      ],
      "execution_count": 114,
      "outputs": [
        {
          "output_type": "execute_result",
          "data": {
            "text/plain": [
              "site_id  user_id\n",
              "3POLC    LC3C7E     15\n",
              "N0OTG    LC3C9D     17\n",
              "         LC06C3     25\n",
              "         LC3A59     26\n",
              "Name: user_id, dtype: int64"
            ]
          },
          "metadata": {
            "tags": []
          },
          "execution_count": 114
        }
      ]
    },
    {
      "cell_type": "markdown",
      "metadata": {
        "id": "gQB9kFMl2aRN",
        "colab_type": "text"
      },
      "source": [
        "# For each site, compute the unique number of users whose last visit (found in the original data set) was to that site. For instance, user \"LC3561\"'s last visit is to \"N0OTG\" based on timestamp data. Based on this measure, what are top three sites? (hint: site \"3POLC\" is ranked at 5th with 28 users whose last visit in the data set was to 3POLC; simply provide three pairs in the form (site_id, number of users).)\n"
      ]
    },
    {
      "cell_type": "code",
      "metadata": {
        "id": "F11w-8OZH8WL",
        "colab_type": "code",
        "colab": {}
      },
      "source": [
        "data_freq = data.groupby(['user_id'])['ts'].max().sort_values()"
      ],
      "execution_count": 0,
      "outputs": []
    },
    {
      "cell_type": "code",
      "metadata": {
        "id": "O2QH6CQTsoso",
        "colab_type": "code",
        "colab": {}
      },
      "source": [
        "users  = data_freq.to_frame().reset_index()"
      ],
      "execution_count": 0,
      "outputs": []
    },
    {
      "cell_type": "code",
      "metadata": {
        "id": "9L5m5F3x0PSy",
        "colab_type": "code",
        "colab": {}
      },
      "source": [
        "joined  = pd.merge(data,users, on=['user_id', 'ts'], how = 'right')"
      ],
      "execution_count": 0,
      "outputs": []
    },
    {
      "cell_type": "code",
      "metadata": {
        "id": "sndhfqFY1dE0",
        "colab_type": "code",
        "colab": {
          "base_uri": "https://localhost:8080/",
          "height": 170
        },
        "outputId": "839b03dc-08b8-48f9-a810-23b7f715deae"
      },
      "source": [
        "joined.site_id.value_counts()"
      ],
      "execution_count": 118,
      "outputs": [
        {
          "output_type": "execute_result",
          "data": {
            "text/plain": [
              "5NPAU    992\n",
              "N0OTG    561\n",
              "QGO3G    289\n",
              "GVOFK     42\n",
              "3POLC     28\n",
              "RT9Z6      2\n",
              "EUZ/Q      1\n",
              "JSUUP      1\n",
              "Name: site_id, dtype: int64"
            ]
          },
          "metadata": {
            "tags": []
          },
          "execution_count": 118
        }
      ]
    },
    {
      "cell_type": "markdown",
      "metadata": {
        "id": "fwN4N8zK3oLs",
        "colab_type": "text"
      },
      "source": [
        "# For each user, determine the first site he/she visited and the last site he/she visited based on the timestamp data. Compute the number of users whose first/last visits are to the same website. What is the number?"
      ]
    },
    {
      "cell_type": "code",
      "metadata": {
        "id": "G9RzXYxJ2Hus",
        "colab_type": "code",
        "colab": {}
      },
      "source": [
        "first_site = data.groupby(['user_id'])['ts'].min().reset_index()"
      ],
      "execution_count": 0,
      "outputs": []
    },
    {
      "cell_type": "code",
      "metadata": {
        "id": "tLvjnFs044O_",
        "colab_type": "code",
        "colab": {}
      },
      "source": [
        "last_site = data.groupby(['user_id'])['ts'].max().reset_index()\n",
        "\n"
      ],
      "execution_count": 0,
      "outputs": []
    },
    {
      "cell_type": "code",
      "metadata": {
        "id": "TMmVTmzg5cRv",
        "colab_type": "code",
        "colab": {}
      },
      "source": [
        "#merge both dataframes to the original data\n",
        "first_joined  = pd.merge(data,first_site, on=['user_id', 'ts'], how = 'right')\n",
        "last_joined  = pd.merge(data,last_site, on=['user_id', 'ts'], how = 'right')"
      ],
      "execution_count": 0,
      "outputs": []
    },
    {
      "cell_type": "code",
      "metadata": {
        "id": "2isYWnst74KN",
        "colab_type": "code",
        "colab": {
          "base_uri": "https://localhost:8080/",
          "height": 34
        },
        "outputId": "6306ed69-faa1-47d9-ff67-6e975731aff9"
      },
      "source": [
        "same_website  = pd.merge(first_joined,last_joined, how = 'inner')\n",
        "same_website.user_id.nunique()"
      ],
      "execution_count": 122,
      "outputs": [
        {
          "output_type": "execute_result",
          "data": {
            "text/plain": [
              "1261"
            ]
          },
          "metadata": {
            "tags": []
          },
          "execution_count": 122
        }
      ]
    },
    {
      "cell_type": "markdown",
      "metadata": {
        "id": "XvWzyDmOARyZ",
        "colab_type": "text"
      },
      "source": [
        "# The data contains 300 rows and 3 columns (from the left, A, B, and C). Please build a good regression model which explains column C by a function of  A and B. \n"
      ]
    },
    {
      "cell_type": "code",
      "metadata": {
        "id": "FcXU39KJBDDQ",
        "colab_type": "code",
        "colab": {}
      },
      "source": [
        "regression_data = pd.read_csv('moloco_regression.csv',header = None)"
      ],
      "execution_count": 0,
      "outputs": []
    },
    {
      "cell_type": "code",
      "metadata": {
        "id": "5k9TnSOHBdm2",
        "colab_type": "code",
        "colab": {}
      },
      "source": [
        "regression_data.columns = ['A', 'B','C'] #rename the column names"
      ],
      "execution_count": 0,
      "outputs": []
    },
    {
      "cell_type": "code",
      "metadata": {
        "id": "GU-4jmbdBZGp",
        "colab_type": "code",
        "colab": {
          "base_uri": "https://localhost:8080/",
          "height": 204
        },
        "outputId": "50ae68da-9d3d-445d-c6aa-7307fe9a9496"
      },
      "source": [
        "regression_data.head()"
      ],
      "execution_count": 158,
      "outputs": [
        {
          "output_type": "execute_result",
          "data": {
            "text/html": [
              "<div>\n",
              "<style scoped>\n",
              "    .dataframe tbody tr th:only-of-type {\n",
              "        vertical-align: middle;\n",
              "    }\n",
              "\n",
              "    .dataframe tbody tr th {\n",
              "        vertical-align: top;\n",
              "    }\n",
              "\n",
              "    .dataframe thead th {\n",
              "        text-align: right;\n",
              "    }\n",
              "</style>\n",
              "<table border=\"1\" class=\"dataframe\">\n",
              "  <thead>\n",
              "    <tr style=\"text-align: right;\">\n",
              "      <th></th>\n",
              "      <th>A</th>\n",
              "      <th>B</th>\n",
              "      <th>C</th>\n",
              "    </tr>\n",
              "  </thead>\n",
              "  <tbody>\n",
              "    <tr>\n",
              "      <th>0</th>\n",
              "      <td>0.490</td>\n",
              "      <td>-0.18</td>\n",
              "      <td>11.50</td>\n",
              "    </tr>\n",
              "    <tr>\n",
              "      <th>1</th>\n",
              "      <td>-1.410</td>\n",
              "      <td>-1.23</td>\n",
              "      <td>11.80</td>\n",
              "    </tr>\n",
              "    <tr>\n",
              "      <th>2</th>\n",
              "      <td>0.943</td>\n",
              "      <td>4.51</td>\n",
              "      <td>-3.24</td>\n",
              "    </tr>\n",
              "    <tr>\n",
              "      <th>3</th>\n",
              "      <td>3.570</td>\n",
              "      <td>5.07</td>\n",
              "      <td>-23.90</td>\n",
              "    </tr>\n",
              "    <tr>\n",
              "      <th>4</th>\n",
              "      <td>-1.700</td>\n",
              "      <td>6.91</td>\n",
              "      <td>-22.10</td>\n",
              "    </tr>\n",
              "  </tbody>\n",
              "</table>\n",
              "</div>"
            ],
            "text/plain": [
              "       A     B      C\n",
              "0  0.490 -0.18  11.50\n",
              "1 -1.410 -1.23  11.80\n",
              "2  0.943  4.51  -3.24\n",
              "3  3.570  5.07 -23.90\n",
              "4 -1.700  6.91 -22.10"
            ]
          },
          "metadata": {
            "tags": []
          },
          "execution_count": 158
        }
      ]
    },
    {
      "cell_type": "code",
      "metadata": {
        "id": "D5mMloDrCy0J",
        "colab_type": "code",
        "colab": {
          "base_uri": "https://localhost:8080/",
          "height": 102
        },
        "outputId": "b5935946-343d-4cae-dfe2-3989d5d6cc47"
      },
      "source": [
        "\"\"\"This a multivariate regression problem involving two independent variables A and B to predict\n",
        "  the dependent variable C\"\"\"\n",
        "\n",
        "\"\"\"Append a column of ones to the data(bias) as the first column\"\"\"\n",
        "\n",
        "\n",
        "#create an empty list for storing the X and Y values\n",
        "data = []\n",
        "\n",
        "#read the data from the csv file\n",
        "with open('moloco_regression.csv') as f:\n",
        "  raw  = csv.reader(f)\n",
        "\n",
        "  for row in raw:\n",
        "    ones = [1.0]\n",
        "    for r in row:\n",
        "      ones.append(float(r))\n",
        "      #append the row to the data\n",
        "    data.append(ones)\n",
        "data = np.array(data)\n",
        "data[:5,:] #print the first five rows\n"
      ],
      "execution_count": 159,
      "outputs": [
        {
          "output_type": "execute_result",
          "data": {
            "text/plain": [
              "array([[  1.   ,   0.49 ,  -0.18 ,  11.5  ],\n",
              "       [  1.   ,  -1.41 ,  -1.23 ,  11.8  ],\n",
              "       [  1.   ,   0.943,   4.51 ,  -3.24 ],\n",
              "       [  1.   ,   3.57 ,   5.07 , -23.9  ],\n",
              "       [  1.   ,  -1.7  ,   6.91 , -22.1  ]])"
            ]
          },
          "metadata": {
            "tags": []
          },
          "execution_count": 159
        }
      ]
    },
    {
      "cell_type": "markdown",
      "metadata": {
        "id": "tAwjat0kPlIq",
        "colab_type": "text"
      },
      "source": [
        "# Perform a 80/20 train-test split"
      ]
    },
    {
      "cell_type": "code",
      "metadata": {
        "id": "S1hHO6s5Ps1F",
        "colab_type": "code",
        "colab": {
          "base_uri": "https://localhost:8080/",
          "height": 68
        },
        "outputId": "e90048ae-331d-48cc-a3a6-29dab3cf87d0"
      },
      "source": [
        "# Set a seed\n",
        "np.random.seed(42)\n",
        "# Perform an 80/20 split\n",
        "# Make array of indices\n",
        "all_idx = np.arange(data.shape[0])\n",
        "# Randomly choose 80% subset of indices without replacement for training\n",
        "training_idx = np.random.choice(all_idx, size=round(300*.8), replace=False)\n",
        "# Choose remaining 20% of indices for testing\n",
        "test_idx = all_idx[~np.isin(all_idx, training_idx)]\n",
        "# Subset data \n",
        "training, test = data[training_idx,:], data[test_idx,:]\n",
        "\n",
        "# Check the shape of datasets\n",
        "print ('Raw data Shape: ', data.shape)\n",
        "print ('Train/Test Split:', training.shape, test.shape)\n",
        "\n",
        "# Create x and y for test and training sets\n",
        "x_train = training[:,:-1]\n",
        "y_train = training [:,-1]\n",
        "\n",
        "x_test = test[:,:-1]\n",
        "y_test = test[:,-1]\n",
        "\n",
        "# Check the shape of datasets\n",
        "print ('x_train, y_train, x_test, y_test:', x_train.shape, y_train.shape, x_test.shape, y_test.shape)"
      ],
      "execution_count": 160,
      "outputs": [
        {
          "output_type": "stream",
          "text": [
            "Raw data Shape:  (300, 4)\n",
            "Train/Test Split: (240, 4) (60, 4)\n",
            "x_train, y_train, x_test, y_test: (240, 3) (240,) (60, 3) (60,)\n"
          ],
          "name": "stdout"
        }
      ]
    },
    {
      "cell_type": "markdown",
      "metadata": {
        "id": "WQjW2qX-QWxl",
        "colab_type": "text"
      },
      "source": [
        "# Calculate the beta values"
      ]
    },
    {
      "cell_type": "code",
      "metadata": {
        "id": "0BxaTDKTP_XR",
        "colab_type": "code",
        "colab": {
          "base_uri": "https://localhost:8080/",
          "height": 34
        },
        "outputId": "54133a93-abf9-429e-8814-122e25f863a6"
      },
      "source": [
        "# Calculate Xt.X and Xt.y for beta = (XT . X)-1 . XT . y \n",
        "Xt = np.transpose(x_train)\n",
        "XtX = np.dot(Xt,x_train)\n",
        "Xty = np.dot(Xt,y_train)\n",
        "\n",
        "# Calculate inverse of Xt.X\n",
        "XtX_inv = np.linalg.inv(XtX)\n",
        "\n",
        "# Take the dot product of XtX_inv with Xty to compute beta\n",
        "beta = XtX_inv.dot(Xty)\n",
        "\n",
        "# Print the values of computed beta\n",
        "print(beta)"
      ],
      "execution_count": 161,
      "outputs": [
        {
          "output_type": "stream",
          "text": [
            "[-28.58050476 -10.32192908   1.34387511]\n"
          ],
          "name": "stdout"
        }
      ]
    },
    {
      "cell_type": "markdown",
      "metadata": {
        "id": "6D36Bu9hQ6Zq",
        "colab_type": "text"
      },
      "source": [
        "# Make Predictions"
      ]
    },
    {
      "cell_type": "markdown",
      "metadata": {
        "id": "pRFJ4ryhTY1g",
        "colab_type": "text"
      },
      "source": [
        "Now we have a new set of coefficients that describe the linear mappings\n",
        "between x and y. Use the calculated beta values with the test datasets to calculate the predictions. Use the all features A and B and multiply it with beta.\n",
        "The result will give a prediction for each row and append to a new array of predictions"
      ]
    },
    {
      "cell_type": "code",
      "metadata": {
        "id": "-0p0kW_5Q1lO",
        "colab_type": "code",
        "colab": {}
      },
      "source": [
        "\"\"\"Create a new empty list (y_pred) for saving predictions\n",
        "\n",
        "  For each row of x_test, take the dot product of the row with beta to calculate \n",
        "  the prediction for that row\"\"\"\n",
        "\n",
        "\"\"\"Append the predictions to y_pred\n",
        "\n",
        "   Print the new set of predictions\"\"\"\n",
        "\n",
        "# Calculate and print predictions for each row of X_test\n",
        "y_pred = []\n",
        "for row in x_test:\n",
        "    pred = row.dot(beta)\n",
        "    y_pred.append(pred)"
      ],
      "execution_count": 0,
      "outputs": []
    },
    {
      "cell_type": "markdown",
      "metadata": {
        "id": "gd3KhN4QRTpu",
        "colab_type": "text"
      },
      "source": [
        "# Evalaute the model"
      ]
    },
    {
      "cell_type": "code",
      "metadata": {
        "id": "JRXIMWtIRRRC",
        "colab_type": "code",
        "colab": {
          "base_uri": "https://localhost:8080/",
          "height": 609
        },
        "outputId": "fcad8712-0659-4e1b-f35b-6ff67288c42e"
      },
      "source": [
        "\"\"\"The model can now use the beta value to predict the values in C as \n",
        "   a fucntion of A and B as the input features\"\"\"\n",
        "\n",
        "# Plot predicted and actual values as line plots\n",
        "import matplotlib.pyplot as plt\n",
        "%matplotlib inline\n",
        "from pylab import rcParams\n",
        "rcParams['figure.figsize'] = 15, 10\n",
        "plt.style.use('ggplot')\n",
        "\n",
        "plt.plot(y_pred, linestyle='-', marker='o', label='predictions')\n",
        "plt.plot(y_test, linestyle='-', marker='o', label='actual values')\n",
        "plt.title('Actual vs. predicted values')\n",
        "plt.legend()\n",
        "plt.show()"
      ],
      "execution_count": 163,
      "outputs": [
        {
          "output_type": "display_data",
          "data": {
            "image/png": "[encoded data removed]",
            "text/plain": [
              "<Figure size 1080x720 with 1 Axes>"
            ]
          },
          "metadata": {
            "tags": []
          }
        }
      ]
    },
    {
      "cell_type": "code",
      "metadata": {
        "id": "qx6kOE-xR93f",
        "colab_type": "code",
        "colab": {
          "base_uri": "https://localhost:8080/",
          "height": 34
        },
        "outputId": "2801c5ee-1cfd-45bd-9610-da8cfa5aca60"
      },
      "source": [
        "# Calculate RMSE value\n",
        "err = []\n",
        "for pred,actual in zip(y_pred,y_test):\n",
        "    sq_err = (pred - actual) ** 2\n",
        "    err.append(sq_err)\n",
        "mean_sq_err = np.array(err).mean()\n",
        "root_mean_sq_err = np.sqrt(mean_sq_err)\n",
        "root_mean_sq_err\n",
        "\n"
      ],
      "execution_count": 164,
      "outputs": [
        {
          "output_type": "execute_result",
          "data": {
            "text/plain": [
              "107.00838356917066"
            ]
          },
          "metadata": {
            "tags": []
          },
          "execution_count": 164
        }
      ]
    },
    {
      "cell_type": "code",
      "metadata": {
        "id": "7CG5NoaoSmOj",
        "colab_type": "code",
        "colab": {
          "base_uri": "https://localhost:8080/",
          "height": 34
        },
        "outputId": "f220b345-ef42-4bf4-e3c9-8b7a712ae280"
      },
      "source": [
        "#calculate the normalised_rmse\n",
        "root_mean_sq_err/(y_train.max() - y_train.min())\n"
      ],
      "execution_count": 165,
      "outputs": [
        {
          "output_type": "execute_result",
          "data": {
            "text/plain": [
              "0.010488961337891655"
            ]
          },
          "metadata": {
            "tags": []
          },
          "execution_count": 165
        }
      ]
    },
    {
      "cell_type": "markdown",
      "metadata": {
        "id": "xp_C50mDUg16",
        "colab_type": "text"
      },
      "source": [
        "With normalised rmse at 0.0104 we have managed to build a decent good model using numpy and \n",
        "   no Machine learning libraries or packages"
      ]
    },
    {
      "cell_type": "code",
      "metadata": {
        "id": "z8lC6akxUjJ8",
        "colab_type": "code",
        "colab": {}
      },
      "source": [
        ""
      ],
      "execution_count": 0,
      "outputs": []
    }
  ]
}