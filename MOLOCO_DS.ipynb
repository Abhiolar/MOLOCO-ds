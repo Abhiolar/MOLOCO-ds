{
  "nbformat": 4,
  "nbformat_minor": 0,
  "metadata": {
    "colab": {
      "name": "MOLOCO DS.ipynb",
      "provenance": [],
      "authorship_tag": "ABX9TyNrApg0Qm4IblDMd2065DjJ"
    },
    "kernelspec": {
      "name": "python3",
      "display_name": "Python 3"
    }
  },
  "cells": [
    {
      "cell_type": "code",
      "metadata": {
        "id": "YK-sG9jn4RkO",
        "colab_type": "code",
        "colab": {}
      },
      "source": [
        "import pandas as pd\n",
        "import numpy as np\n",
        "import datetime as dt"
      ],
      "execution_count": 0,
      "outputs": []
    },
    {
      "cell_type": "markdown",
      "metadata": {
        "id": "KwxZflFw4kO4",
        "colab_type": "text"
      },
      "source": [
        "Read in the data file as a csv file"
      ]
    },
    {
      "cell_type": "code",
      "metadata": {
        "id": "tSR2a9HW5G1z",
        "colab_type": "code",
        "colab": {}
      },
      "source": [
        "data = pd.read_csv('moloco.csv')"
      ],
      "execution_count": 0,
      "outputs": []
    },
    {
      "cell_type": "code",
      "metadata": {
        "id": "ky1sfFmS5Vep",
        "colab_type": "code",
        "colab": {
          "base_uri": "https://localhost:8080/",
          "height": 204
        },
        "outputId": "e81c0738-b249-409d-8b56-2fa41823c124"
      },
      "source": [
        "data.head()"
      ],
      "execution_count": 105,
      "outputs": [
        {
          "output_type": "execute_result",
          "data": {
            "text/html": [
              "<div>\n",
              "<style scoped>\n",
              "    .dataframe tbody tr th:only-of-type {\n",
              "        vertical-align: middle;\n",
              "    }\n",
              "\n",
              "    .dataframe tbody tr th {\n",
              "        vertical-align: top;\n",
              "    }\n",
              "\n",
              "    .dataframe thead th {\n",
              "        text-align: right;\n",
              "    }\n",
              "</style>\n",
              "<table border=\"1\" class=\"dataframe\">\n",
              "  <thead>\n",
              "    <tr style=\"text-align: right;\">\n",
              "      <th></th>\n",
              "      <th>ts</th>\n",
              "      <th>user_id</th>\n",
              "      <th>country_id</th>\n",
              "      <th>site_id</th>\n",
              "    </tr>\n",
              "  </thead>\n",
              "  <tbody>\n",
              "    <tr>\n",
              "      <th>0</th>\n",
              "      <td>2019-02-01 00:01:24</td>\n",
              "      <td>LC36FC</td>\n",
              "      <td>TL6</td>\n",
              "      <td>N0OTG</td>\n",
              "    </tr>\n",
              "    <tr>\n",
              "      <th>1</th>\n",
              "      <td>2019-02-01 00:10:19</td>\n",
              "      <td>LC39B6</td>\n",
              "      <td>TL6</td>\n",
              "      <td>N0OTG</td>\n",
              "    </tr>\n",
              "    <tr>\n",
              "      <th>2</th>\n",
              "      <td>2019-02-01 00:21:50</td>\n",
              "      <td>LC3500</td>\n",
              "      <td>TL6</td>\n",
              "      <td>N0OTG</td>\n",
              "    </tr>\n",
              "    <tr>\n",
              "      <th>3</th>\n",
              "      <td>2019-02-01 00:22:50</td>\n",
              "      <td>LC374F</td>\n",
              "      <td>TL6</td>\n",
              "      <td>N0OTG</td>\n",
              "    </tr>\n",
              "    <tr>\n",
              "      <th>4</th>\n",
              "      <td>2019-02-01 00:23:44</td>\n",
              "      <td>LCC1C3</td>\n",
              "      <td>TL6</td>\n",
              "      <td>QGO3G</td>\n",
              "    </tr>\n",
              "  </tbody>\n",
              "</table>\n",
              "</div>"
            ],
            "text/plain": [
              "                    ts user_id country_id site_id\n",
              "0  2019-02-01 00:01:24  LC36FC        TL6   N0OTG\n",
              "1  2019-02-01 00:10:19  LC39B6        TL6   N0OTG\n",
              "2  2019-02-01 00:21:50  LC3500        TL6   N0OTG\n",
              "3  2019-02-01 00:22:50  LC374F        TL6   N0OTG\n",
              "4  2019-02-01 00:23:44  LCC1C3        TL6   QGO3G"
            ]
          },
          "metadata": {
            "tags": []
          },
          "execution_count": 105
        }
      ]
    },
    {
      "cell_type": "markdown",
      "metadata": {
        "id": "s_5tZq7I5d4q",
        "colab_type": "text"
      },
      "source": [
        "The three columns in the data accounts for the timestamp, the user_id, country_id and the site_id"
      ]
    },
    {
      "cell_type": "markdown",
      "metadata": {
        "id": "EchwFfTt51FW",
        "colab_type": "text"
      },
      "source": [
        "# EXPLORATORY DATA ANALYSIS"
      ]
    },
    {
      "cell_type": "code",
      "metadata": {
        "id": "w3bB3D0U6Sjm",
        "colab_type": "code",
        "colab": {
          "base_uri": "https://localhost:8080/",
          "height": 204
        },
        "outputId": "5a3dd90b-02dd-4a31-abdb-a850e643b4ce"
      },
      "source": [
        "data.info() #we have non-null values and and all columns are object data types"
      ],
      "execution_count": 106,
      "outputs": [
        {
          "output_type": "stream",
          "text": [
            "<class 'pandas.core.frame.DataFrame'>\n",
            "RangeIndex: 3553 entries, 0 to 3552\n",
            "Data columns (total 4 columns):\n",
            " #   Column      Non-Null Count  Dtype \n",
            "---  ------      --------------  ----- \n",
            " 0   ts          3553 non-null   object\n",
            " 1   user_id     3553 non-null   object\n",
            " 2   country_id  3553 non-null   object\n",
            " 3   site_id     3553 non-null   object\n",
            "dtypes: object(4)\n",
            "memory usage: 111.2+ KB\n"
          ],
          "name": "stdout"
        }
      ]
    },
    {
      "cell_type": "code",
      "metadata": {
        "id": "bOYRMVDmv5JB",
        "colab_type": "code",
        "colab": {
          "base_uri": "https://localhost:8080/",
          "height": 34
        },
        "outputId": "67933221-5946-42e3-d198-68017d3c9d4b"
      },
      "source": [
        "data.user_id.nunique() # there are 1916 unique users in the data"
      ],
      "execution_count": 107,
      "outputs": [
        {
          "output_type": "execute_result",
          "data": {
            "text/plain": [
              "1916"
            ]
          },
          "metadata": {
            "tags": []
          },
          "execution_count": 107
        }
      ]
    },
    {
      "cell_type": "markdown",
      "metadata": {
        "id": "xWqr6AbH89tO",
        "colab_type": "text"
      },
      "source": [
        "# Consider only the rows with country_id = \"BDV\" (there are 844 such rows). For each site_id, we can compute the number of unique user_id's found in these 844 rows. Which site_id has the largest number of unique users? And what's the number?"
      ]
    },
    {
      "cell_type": "code",
      "metadata": {
        "id": "gzzbE1p95Ywa",
        "colab_type": "code",
        "colab": {
          "base_uri": "https://localhost:8080/",
          "height": 34
        },
        "outputId": "98e43d04-28c3-494e-a865-9b1b17d4c309"
      },
      "source": [
        "data.country_id.unique() ## this method computes the unique country_ids in the data"
      ],
      "execution_count": 108,
      "outputs": [
        {
          "output_type": "execute_result",
          "data": {
            "text/plain": [
              "array(['TL6', 'HVQ', 'QLT', 'BDV', 'XA7', 'NVV', 'K1R'], dtype=object)"
            ]
          },
          "metadata": {
            "tags": []
          },
          "execution_count": 108
        }
      ]
    },
    {
      "cell_type": "code",
      "metadata": {
        "id": "_g8-P8MJ6C80",
        "colab_type": "code",
        "colab": {}
      },
      "source": [
        "new_data  = data[data['country_id'] == 'BDV']"
      ],
      "execution_count": 0,
      "outputs": []
    },
    {
      "cell_type": "code",
      "metadata": {
        "id": "8ZuB76ZU67iU",
        "colab_type": "code",
        "colab": {
          "base_uri": "https://localhost:8080/",
          "height": 102
        },
        "outputId": "f38913be-1d17-43d0-ad44-934fe36a78aa"
      },
      "source": [
        "new_data.groupby(['site_id'])['user_id'].nunique()"
      ],
      "execution_count": 110,
      "outputs": [
        {
          "output_type": "execute_result",
          "data": {
            "text/plain": [
              "site_id\n",
              "3POLC      2\n",
              "5NPAU    544\n",
              "N0OTG     90\n",
              "Name: user_id, dtype: int64"
            ]
          },
          "metadata": {
            "tags": []
          },
          "execution_count": 110
        }
      ]
    },
    {
      "cell_type": "markdown",
      "metadata": {
        "id": "2MWp2YB19EIM",
        "colab_type": "text"
      },
      "source": [
        "**Answer **- site_id 5NPAU has 544 unique users"
      ]
    },
    {
      "cell_type": "markdown",
      "metadata": {
        "id": "aaa3ImAR9QYZ",
        "colab_type": "text"
      },
      "source": [
        "# Between 2019-02-03 00:00:00 and 2019-02-04 23:59:59, there are four users who visited a certain site more than 10 times. Find these four users & which sites they (each) visited more than 10 times. (Simply provides four triples in the form (user_id, site_id, number of visits) in the box below.)"
      ]
    },
    {
      "cell_type": "code",
      "metadata": {
        "id": "ygzBBAC29nWn",
        "colab_type": "code",
        "colab": {}
      },
      "source": [
        "data['ts'] = pd.to_datetime(data['ts'])"
      ],
      "execution_count": 0,
      "outputs": []
    },
    {
      "cell_type": "code",
      "metadata": {
        "id": "yfigHnjQAIWP",
        "colab_type": "code",
        "colab": {
          "base_uri": "https://localhost:8080/",
          "height": 204
        },
        "outputId": "948ee9e3-927d-44a3-f540-251bfe90d8f9"
      },
      "source": [
        "data.info() #timestamp column has been converted to datetime format"
      ],
      "execution_count": 112,
      "outputs": [
        {
          "output_type": "stream",
          "text": [
            "<class 'pandas.core.frame.DataFrame'>\n",
            "RangeIndex: 3553 entries, 0 to 3552\n",
            "Data columns (total 4 columns):\n",
            " #   Column      Non-Null Count  Dtype         \n",
            "---  ------      --------------  -----         \n",
            " 0   ts          3553 non-null   datetime64[ns]\n",
            " 1   user_id     3553 non-null   object        \n",
            " 2   country_id  3553 non-null   object        \n",
            " 3   site_id     3553 non-null   object        \n",
            "dtypes: datetime64[ns](1), object(3)\n",
            "memory usage: 111.2+ KB\n"
          ],
          "name": "stdout"
        }
      ]
    },
    {
      "cell_type": "code",
      "metadata": {
        "id": "xn4cn0QaAJ_-",
        "colab_type": "code",
        "colab": {}
      },
      "source": [
        "time_data  = data[(data['ts'] >= '2019-02-03 00:00:00') & (data['ts'] <= '2019-02-04 23:59:59')]"
      ],
      "execution_count": 0,
      "outputs": []
    },
    {
      "cell_type": "code",
      "metadata": {
        "id": "rbCA31VuCe9j",
        "colab_type": "code",
        "colab": {
          "base_uri": "https://localhost:8080/",
          "height": 119
        },
        "outputId": "8964bac9-24d4-411b-ad5c-00bd3296a5e0"
      },
      "source": [
        "time_data.groupby(['site_id', 'user_id'])['user_id'].count().sort_values().tail(4)"
      ],
      "execution_count": 114,
      "outputs": [
        {
          "output_type": "execute_result",
          "data": {
            "text/plain": [
              "site_id  user_id\n",
              "3POLC    LC3C7E     15\n",
              "N0OTG    LC3C9D     17\n",
              "         LC06C3     25\n",
              "         LC3A59     26\n",
              "Name: user_id, dtype: int64"
            ]
          },
          "metadata": {
            "tags": []
          },
          "execution_count": 114
        }
      ]
    },
    {
      "cell_type": "markdown",
      "metadata": {
        "id": "gQB9kFMl2aRN",
        "colab_type": "text"
      },
      "source": [
        "# For each site, compute the unique number of users whose last visit (found in the original data set) was to that site. For instance, user \"LC3561\"'s last visit is to \"N0OTG\" based on timestamp data. Based on this measure, what are top three sites? (hint: site \"3POLC\" is ranked at 5th with 28 users whose last visit in the data set was to 3POLC; simply provide three pairs in the form (site_id, number of users).)\n"
      ]
    },
    {
      "cell_type": "code",
      "metadata": {
        "id": "F11w-8OZH8WL",
        "colab_type": "code",
        "colab": {}
      },
      "source": [
        "data_freq = data.groupby(['user_id'])['ts'].max().sort_values()"
      ],
      "execution_count": 0,
      "outputs": []
    },
    {
      "cell_type": "code",
      "metadata": {
        "id": "O2QH6CQTsoso",
        "colab_type": "code",
        "colab": {}
      },
      "source": [
        "users  = data_freq.to_frame().reset_index()"
      ],
      "execution_count": 0,
      "outputs": []
    },
    {
      "cell_type": "code",
      "metadata": {
        "id": "9L5m5F3x0PSy",
        "colab_type": "code",
        "colab": {}
      },
      "source": [
        "joined  = pd.merge(data,users, on=['user_id', 'ts'], how = 'right')"
      ],
      "execution_count": 0,
      "outputs": []
    },
    {
      "cell_type": "code",
      "metadata": {
        "id": "sndhfqFY1dE0",
        "colab_type": "code",
        "colab": {
          "base_uri": "https://localhost:8080/",
          "height": 170
        },
        "outputId": "839b03dc-08b8-48f9-a810-23b7f715deae"
      },
      "source": [
        "joined.site_id.value_counts()"
      ],
      "execution_count": 118,
      "outputs": [
        {
          "output_type": "execute_result",
          "data": {
            "text/plain": [
              "5NPAU    992\n",
              "N0OTG    561\n",
              "QGO3G    289\n",
              "GVOFK     42\n",
              "3POLC     28\n",
              "RT9Z6      2\n",
              "EUZ/Q      1\n",
              "JSUUP      1\n",
              "Name: site_id, dtype: int64"
            ]
          },
          "metadata": {
            "tags": []
          },
          "execution_count": 118
        }
      ]
    },
    {
      "cell_type": "markdown",
      "metadata": {
        "id": "fwN4N8zK3oLs",
        "colab_type": "text"
      },
      "source": [
        "# For each user, determine the first site he/she visited and the last site he/she visited based on the timestamp data. Compute the number of users whose first/last visits are to the same website. What is the number?"
      ]
    },
    {
      "cell_type": "code",
      "metadata": {
        "id": "G9RzXYxJ2Hus",
        "colab_type": "code",
        "colab": {}
      },
      "source": [
        "first_site = data.groupby(['user_id'])['ts'].min().reset_index()"
      ],
      "execution_count": 0,
      "outputs": []
    },
    {
      "cell_type": "code",
      "metadata": {
        "id": "tLvjnFs044O_",
        "colab_type": "code",
        "colab": {}
      },
      "source": [
        "last_site = data.groupby(['user_id'])['ts'].max().reset_index()\n",
        "\n"
      ],
      "execution_count": 0,
      "outputs": []
    },
    {
      "cell_type": "code",
      "metadata": {
        "id": "TMmVTmzg5cRv",
        "colab_type": "code",
        "colab": {}
      },
      "source": [
        "#merge both dataframes to the original data\n",
        "first_joined  = pd.merge(data,first_site, on=['user_id', 'ts'], how = 'right')\n",
        "last_joined  = pd.merge(data,last_site, on=['user_id', 'ts'], how = 'right')"
      ],
      "execution_count": 0,
      "outputs": []
    },
    {
      "cell_type": "code",
      "metadata": {
        "id": "2isYWnst74KN",
        "colab_type": "code",
        "colab": {
          "base_uri": "https://localhost:8080/",
          "height": 34
        },
        "outputId": "6306ed69-faa1-47d9-ff67-6e975731aff9"
      },
      "source": [
        "same_website  = pd.merge(first_joined,last_joined, how = 'inner')\n",
        "same_website.user_id.nunique()"
      ],
      "execution_count": 122,
      "outputs": [
        {
          "output_type": "execute_result",
          "data": {
            "text/plain": [
              "1261"
            ]
          },
          "metadata": {
            "tags": []
          },
          "execution_count": 122
        }
      ]
    }
  ]
}